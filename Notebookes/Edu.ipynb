{
 "cells": [
  {
   "cell_type": "code",
   "execution_count": 4,
   "metadata": {
    "collapsed": true
   },
   "outputs": [
    {
     "name": "stdout",
     "output_type": "stream",
     "text": [
      "data columns:\nIndex([u'student_id', u'lo_id', u'num_of_questions_in_lo_session',\n       u'question_id', u'domain_id', u'question_start_time',\n       u'question_end_time', u'number_of_attempts',\n       u'used_hists_or_assistence', u'is_correct_at_first_attempt',\n       u'first_attemp_time', u'success_time', u'bestScore', u'action_count',\n       u'action_hist', u'session_count', u'last_response', u'q_f_type',\n       u'q_f_subjects', u'q_f_detail', u'q_f_goals', u'q_f_representation',\n       u'q_f_activity_type', u'adjusted_is_correct_at_first_attempt',\n       u'num_of_full_attempts_to_success', u'weighted_score',\n       u'smart_start_time', u'raw_duration', u'duration_in_seconds',\n       u'time_to_first_attemp_in_sec', u'time_to_success'],\n      dtype='object')\n"
     ]
    }
   ],
   "source": [
    "%matplotlib inline \n",
    "import os \n",
    "import sys\n",
    "sys.path.append(os.path.join(os.path.dirname('CET_analysis'), '..'))\n",
    "#sys.path.insert(0, r'C:\\Users\\t-tatron\\PycharmProjects\\ILDC_Education')\n",
    "\n",
    "import datetime\n",
    "import pandas as pd\n",
    "import numpy as np \n",
    "from pandas import DataFrame as df\n",
    "import matplotlib.pyplot as plt \n",
    "from IPython.display import display, clear_output\n",
    "#from CET_analysis.questions_analysis import *\n",
    "\n",
    "file_path=r'C:\\Users\\t-tatron\\Desktop\\EDUCATION\\data'\n",
    "file_name='question_session_log_13.csv'\n",
    "\n",
    "data=df.from_csv(os.path.join(file_path,file_name))\n",
    "lo_index=df.from_csv(os.path.join(file_path,'LOs_order_index_fraction.csv'))\n",
    "meta_data=df.from_csv(os.path.join(file_path,'MD_fractions.csv'))\n",
    "print('data columns:')\n",
    "print(data.columns)"
   ]
  },
  {
   "cell_type": "code",
   "execution_count": 10,
   "metadata": {},
   "outputs": [],
   "source": [
    ""
   ]
  },
  {
   "cell_type": "code",
   "execution_count": null,
   "metadata": {},
   "outputs": [],
   "source": [
    ""
   ]
  }
 ],
 "metadata": {
  "kernelspec": {
   "display_name": "Python 2",
   "language": "python",
   "name": "python2"
  },
  "language_info": {
   "codemirror_mode": {
    "name": "ipython",
    "version": 2.0
   },
   "file_extension": ".py",
   "mimetype": "text/x-python",
   "name": "python",
   "nbconvert_exporter": "python",
   "pygments_lexer": "ipython2",
   "version": "2.7.6"
  }
 },
 "nbformat": 4,
 "nbformat_minor": 0
}